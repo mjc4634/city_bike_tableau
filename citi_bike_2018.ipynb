{
 "cells": [
  {
   "cell_type": "code",
   "execution_count": 39,
   "metadata": {},
   "outputs": [],
   "source": [
    "import glob\n",
    "import pandas as pd\n",
    "from datetime import datetime"
   ]
  },
  {
   "cell_type": "code",
   "execution_count": 82,
   "metadata": {},
   "outputs": [],
   "source": [
    "path = \"trip_extract/*.csv\"\n",
    "csv_files = glob.glob(path)"
   ]
  },
  {
   "cell_type": "code",
   "execution_count": 83,
   "metadata": {},
   "outputs": [
    {
     "data": {
      "text/plain": [
       "['trip_extract\\\\JC-201801-citibike-tripdata.csv',\n",
       " 'trip_extract\\\\JC-201802-citibike-tripdata.csv',\n",
       " 'trip_extract\\\\JC-201803-citibike-tripdata.csv',\n",
       " 'trip_extract\\\\JC-201804-citibike-tripdata.csv',\n",
       " 'trip_extract\\\\JC-201805-citibike-tripdata.csv',\n",
       " 'trip_extract\\\\JC-201806-citibike-tripdata.csv',\n",
       " 'trip_extract\\\\JC-201807-citibike-tripdata.csv',\n",
       " 'trip_extract\\\\JC-201808-citibike-tripdata.csv',\n",
       " 'trip_extract\\\\JC-201809-citibike-tripdata.csv',\n",
       " 'trip_extract\\\\JC-201810-citibike-tripdata.csv',\n",
       " 'trip_extract\\\\JC-201811-citibike-tripdata.csv',\n",
       " 'trip_extract\\\\JC-201812-citibike-tripdata.csv']"
      ]
     },
     "execution_count": 83,
     "metadata": {},
     "output_type": "execute_result"
    }
   ],
   "source": [
    "csv_files"
   ]
  },
  {
   "cell_type": "code",
   "execution_count": 134,
   "metadata": {},
   "outputs": [],
   "source": [
    "with open(\"total_2018.csv\", \"a\") as append_file:\n",
    "    for csv_file in csv_files:\n",
    "        for line in open(csv_file, 'r'):\n",
    "            append_file.write(line)"
   ]
  },
  {
   "cell_type": "code",
   "execution_count": 136,
   "metadata": {
    "scrolled": true
   },
   "outputs": [
    {
     "data": {
      "text/plain": [
       "353893"
      ]
     },
     "execution_count": 136,
     "metadata": {},
     "output_type": "execute_result"
    }
   ],
   "source": [
    "df = pd.read_csv(\"total_2018.csv\")\n",
    "len(df.drop_duplicates())"
   ]
  },
  {
   "cell_type": "code",
   "execution_count": 137,
   "metadata": {},
   "outputs": [],
   "source": [
    "# Convert starttime into a date column to be able to merge later\n",
    "def dater(starttime):\n",
    "    if starttime != \"starttime\":\n",
    "        date = starttime.split(\" \")[0]\n",
    "        date_fix = date.split('-')[1] + \"/\" + date.split('-')[2] + \"/\" + date.split('-')[0]\n",
    "    else:\n",
    "        date_fix = []\n",
    "    return date_fix\n"
   ]
  },
  {
   "cell_type": "code",
   "execution_count": 138,
   "metadata": {},
   "outputs": [],
   "source": [
    "df[\"date\"] = [dater(dt) for dt in df.loc[:,'starttime']]"
   ]
  },
  {
   "cell_type": "code",
   "execution_count": 140,
   "metadata": {},
   "outputs": [
    {
     "data": {
      "text/html": [
       "<div>\n",
       "<style scoped>\n",
       "    .dataframe tbody tr th:only-of-type {\n",
       "        vertical-align: middle;\n",
       "    }\n",
       "\n",
       "    .dataframe tbody tr th {\n",
       "        vertical-align: top;\n",
       "    }\n",
       "\n",
       "    .dataframe thead th {\n",
       "        text-align: right;\n",
       "    }\n",
       "</style>\n",
       "<table border=\"1\" class=\"dataframe\">\n",
       "  <thead>\n",
       "    <tr style=\"text-align: right;\">\n",
       "      <th></th>\n",
       "      <th>tripduration</th>\n",
       "      <th>starttime</th>\n",
       "      <th>stoptime</th>\n",
       "      <th>start station id</th>\n",
       "      <th>start station name</th>\n",
       "      <th>start station latitude</th>\n",
       "      <th>start station longitude</th>\n",
       "      <th>end station id</th>\n",
       "      <th>end station name</th>\n",
       "      <th>end station latitude</th>\n",
       "      <th>end station longitude</th>\n",
       "      <th>bikeid</th>\n",
       "      <th>usertype</th>\n",
       "      <th>birth year</th>\n",
       "      <th>gender</th>\n",
       "      <th>date</th>\n",
       "    </tr>\n",
       "  </thead>\n",
       "  <tbody>\n",
       "    <tr>\n",
       "      <th>353898</th>\n",
       "      <td>1081</td>\n",
       "      <td>2018-12-22 11:51:46.0600</td>\n",
       "      <td>2018-12-22 12:09:47.4730</td>\n",
       "      <td>3694</td>\n",
       "      <td>Jackson Square</td>\n",
       "      <td>40.71113</td>\n",
       "      <td>-74.0789</td>\n",
       "      <td>3269</td>\n",
       "      <td>Brunswick &amp; 6th</td>\n",
       "      <td>40.72601172964625</td>\n",
       "      <td>-74.05038893222809</td>\n",
       "      <td>29586</td>\n",
       "      <td>Subscriber</td>\n",
       "      <td>1993</td>\n",
       "      <td>1</td>\n",
       "      <td>12/22/2018</td>\n",
       "    </tr>\n",
       "    <tr>\n",
       "      <th>353899</th>\n",
       "      <td>344</td>\n",
       "      <td>2018-12-25 21:40:09.8660</td>\n",
       "      <td>2018-12-25 21:45:54.2670</td>\n",
       "      <td>3694</td>\n",
       "      <td>Jackson Square</td>\n",
       "      <td>40.71113</td>\n",
       "      <td>-74.0789</td>\n",
       "      <td>3280</td>\n",
       "      <td>Astor Place</td>\n",
       "      <td>40.71928220070702</td>\n",
       "      <td>-74.07126188278198</td>\n",
       "      <td>26241</td>\n",
       "      <td>Subscriber</td>\n",
       "      <td>1983</td>\n",
       "      <td>2</td>\n",
       "      <td>12/25/2018</td>\n",
       "    </tr>\n",
       "    <tr>\n",
       "      <th>353900</th>\n",
       "      <td>1233</td>\n",
       "      <td>2018-12-29 12:55:45.9690</td>\n",
       "      <td>2018-12-29 13:16:19.5960</td>\n",
       "      <td>3694</td>\n",
       "      <td>Jackson Square</td>\n",
       "      <td>40.71113</td>\n",
       "      <td>-74.0789</td>\n",
       "      <td>3186</td>\n",
       "      <td>Grove St PATH</td>\n",
       "      <td>40.71958611647166</td>\n",
       "      <td>-74.04311746358871</td>\n",
       "      <td>29294</td>\n",
       "      <td>Subscriber</td>\n",
       "      <td>1988</td>\n",
       "      <td>1</td>\n",
       "      <td>12/29/2018</td>\n",
       "    </tr>\n",
       "    <tr>\n",
       "      <th>353901</th>\n",
       "      <td>1057</td>\n",
       "      <td>2018-12-30 15:32:09.3320</td>\n",
       "      <td>2018-12-30 15:49:46.3510</td>\n",
       "      <td>3694</td>\n",
       "      <td>Jackson Square</td>\n",
       "      <td>40.71113</td>\n",
       "      <td>-74.0789</td>\n",
       "      <td>3213</td>\n",
       "      <td>Van Vorst Park</td>\n",
       "      <td>40.71848892</td>\n",
       "      <td>-74.047726625</td>\n",
       "      <td>29475</td>\n",
       "      <td>Subscriber</td>\n",
       "      <td>1991</td>\n",
       "      <td>2</td>\n",
       "      <td>12/30/2018</td>\n",
       "    </tr>\n",
       "    <tr>\n",
       "      <th>353902</th>\n",
       "      <td>301</td>\n",
       "      <td>2018-12-31 16:34:11.9340</td>\n",
       "      <td>2018-12-31 16:39:13.8340</td>\n",
       "      <td>3694</td>\n",
       "      <td>Jackson Square</td>\n",
       "      <td>40.71113</td>\n",
       "      <td>-74.0789</td>\n",
       "      <td>3277</td>\n",
       "      <td>Communipaw &amp; Berry Lane</td>\n",
       "      <td>40.71435836870427</td>\n",
       "      <td>-74.06661093235016</td>\n",
       "      <td>26270</td>\n",
       "      <td>Subscriber</td>\n",
       "      <td>1991</td>\n",
       "      <td>1</td>\n",
       "      <td>12/31/2018</td>\n",
       "    </tr>\n",
       "  </tbody>\n",
       "</table>\n",
       "</div>"
      ],
      "text/plain": [
       "       tripduration                 starttime                  stoptime  \\\n",
       "353898         1081  2018-12-22 11:51:46.0600  2018-12-22 12:09:47.4730   \n",
       "353899          344  2018-12-25 21:40:09.8660  2018-12-25 21:45:54.2670   \n",
       "353900         1233  2018-12-29 12:55:45.9690  2018-12-29 13:16:19.5960   \n",
       "353901         1057  2018-12-30 15:32:09.3320  2018-12-30 15:49:46.3510   \n",
       "353902          301  2018-12-31 16:34:11.9340  2018-12-31 16:39:13.8340   \n",
       "\n",
       "       start station id start station name start station latitude  \\\n",
       "353898             3694     Jackson Square               40.71113   \n",
       "353899             3694     Jackson Square               40.71113   \n",
       "353900             3694     Jackson Square               40.71113   \n",
       "353901             3694     Jackson Square               40.71113   \n",
       "353902             3694     Jackson Square               40.71113   \n",
       "\n",
       "       start station longitude end station id         end station name  \\\n",
       "353898                -74.0789           3269          Brunswick & 6th   \n",
       "353899                -74.0789           3280              Astor Place   \n",
       "353900                -74.0789           3186            Grove St PATH   \n",
       "353901                -74.0789           3213           Van Vorst Park   \n",
       "353902                -74.0789           3277  Communipaw & Berry Lane   \n",
       "\n",
       "       end station latitude end station longitude bikeid    usertype  \\\n",
       "353898    40.72601172964625    -74.05038893222809  29586  Subscriber   \n",
       "353899    40.71928220070702    -74.07126188278198  26241  Subscriber   \n",
       "353900    40.71958611647166    -74.04311746358871  29294  Subscriber   \n",
       "353901          40.71848892         -74.047726625  29475  Subscriber   \n",
       "353902    40.71435836870427    -74.06661093235016  26270  Subscriber   \n",
       "\n",
       "       birth year gender        date  \n",
       "353898       1993      1  12/22/2018  \n",
       "353899       1983      2  12/25/2018  \n",
       "353900       1988      1  12/29/2018  \n",
       "353901       1991      2  12/30/2018  \n",
       "353902       1991      1  12/31/2018  "
      ]
     },
     "execution_count": 140,
     "metadata": {},
     "output_type": "execute_result"
    }
   ],
   "source": [
    "df.ta"
   ]
  },
  {
   "cell_type": "code",
   "execution_count": 141,
   "metadata": {},
   "outputs": [],
   "source": [
    "df.to_csv('total_2018.csv')"
   ]
  },
  {
   "cell_type": "code",
   "execution_count": null,
   "metadata": {},
   "outputs": [],
   "source": []
  },
  {
   "cell_type": "code",
   "execution_count": null,
   "metadata": {},
   "outputs": [],
   "source": []
  }
 ],
 "metadata": {
  "kernelspec": {
   "display_name": "Python 3",
   "language": "python",
   "name": "python3"
  },
  "language_info": {
   "codemirror_mode": {
    "name": "ipython",
    "version": 3
   },
   "file_extension": ".py",
   "mimetype": "text/x-python",
   "name": "python",
   "nbconvert_exporter": "python",
   "pygments_lexer": "ipython3",
   "version": "3.6.7"
  }
 },
 "nbformat": 4,
 "nbformat_minor": 2
}
